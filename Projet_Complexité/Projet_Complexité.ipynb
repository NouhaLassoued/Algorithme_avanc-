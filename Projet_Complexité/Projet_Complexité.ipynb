{
 "cells": [
  {
   "cell_type": "markdown",
   "metadata": {},
   "source": [
    "##### <center> MINISTERE DE L’ENSEIGNEMENT SUPERIEUR  ET DE LA RECHERCHE SCIENTIFIQUE <br/> UNIVERSITE DE SOUSSE </center>\n",
    "\n",
    " \n",
    "\n",
    "### <center>Institut Supérieur d’Informatique et de Technique de Communication </center>           <img src=\"isitcom.png\"> \n",
    "### <center>المعهد العالي للإعلامية و تقنيات الاتصال بحمام سوسة</center>\n",
    "\n",
    " \n",
    "\n",
    "## <center> <div style=\"background-color:lavender;color:steelBlue;padding:1%;text-decoration: underline;\"><font style=\"font-family:italic;\" size=\"12\" >Algorithmique Avancée</div> \n",
    "\n",
    " \n",
    "\n",
    "# <center> <div style=\"text-decoration: underline;\"><font size=\"5\" >Théme:Analyse & Complexité des algorithmes</div> \n",
    "    \n",
    "\n",
    " \n",
    "\n",
    "###  <center> Réalisé par : <br> Nouha Lassoued  <br>     2DNI1  <center> <hr>\n",
    "\n",
    " \n",
    "\n",
    "#### <center> Année Universitaire 2021 – 2022 <center>\n",
    "<hr>"
   ]
  },
  {
   "cell_type": "markdown",
   "metadata": {},
   "source": [
    "# <font color=\"Indigo\" size=\"5\"/> Tri par selection:\n",
    "### <font style=\"font-family:oblique;\"/>`"
   ]
  },
  {
   "cell_type": "code",
   "execution_count": 3,
   "metadata": {},
   "outputs": [],
   "source": [
    "import random \n",
    "\n",
    "T=[]\n",
    "\n",
    "for i in range(20000) :\n",
    "    \n",
    "    T.append(random.randint(1,1000) )\n"
   ]
  },
  {
   "cell_type": "code",
   "execution_count": 4,
   "metadata": {
    "scrolled": true
   },
   "outputs": [],
   "source": [
    "\n",
    "def Tri_selection(T) :\n",
    "    for i in range(0,len(T)-1) :\n",
    "        Min=T[i]\n",
    "        imin=i\n",
    "        for j in range(i+1,len(T)):\n",
    "            if T[j] < Min:\n",
    "                Min=T[j]\n",
    "                imin=j\n",
    "        tmp=T[i]\n",
    "        T[i]=T[imin]\n",
    "        T[imin]=tmp\n",
    "        \n",
    "    \n",
    "    \n",
    "    \n",
    "\n"
   ]
  },
  {
   "cell_type": "code",
   "execution_count": null,
   "metadata": {},
   "outputs": [],
   "source": [
    "import time\n",
    "debut = time.time()\n",
    "Tri_selection(T)\n",
    "fin = time.time()\n",
    "print(fin - debut)"
   ]
  },
  {
   "cell_type": "markdown",
   "metadata": {},
   "source": [
    "## ``affichage de Courbe :  ``"
   ]
  },
  {
   "cell_type": "code",
   "execution_count": 7,
   "metadata": {},
   "outputs": [
    {
     "data": {
      "image/png": "[encoded data removed]",
      "text/plain": [
       "<Figure size 432x288 with 1 Axes>"
      ]
     },
     "metadata": {
      "needs_background": "light"
     },
     "output_type": "display_data"
    }
   ],
   "source": [
    "import matplotlib.pyplot as plt\n",
    "N=[ 20000, 25000 , 30000, 35000 , 40000, 45000, 50000, 55000, 60000, 65000, 70000, 75000, 80000, 85000, 90000, 95000, 100000 ]\n",
    "Temps_Ex=[14.076887369155884,25.18699359893799,25.719995975494385,39.88449954986572,48.17768478393555,65.64378762245178,79.93000483512878,89.81601548194885,102.62879848480225,148.52647471427917,184.44912314414978,214.1737997531891,217.82634210586548,240.33271408081055,269.7155840396881,293.40186071395874,325.4835453033447]\n",
    "\n",
    "plt.figure()\n",
    "plt.plot(N,Temps_Ex,\"magenta\")\n",
    "plt.title(\"Tri par Selection\")\n",
    "plt.xlabel(\"N : Nombre des entiers dans le tableau\")\n",
    "plt.ylabel(\"Temps CPU en seconde \")\n",
    "plt.grid()\n",
    "\n",
    "\n",
    "plt.show()"
   ]
  },
  {
   "cell_type": "markdown",
   "metadata": {},
   "source": [
    "# <font color=\"Indigo\" size=\"5\"/> Tri à Bulle:\n",
    "### <font style=\"font-family:oblique;\"/>`"
   ]
  },
  {
   "cell_type": "code",
   "execution_count": null,
   "metadata": {},
   "outputs": [],
   "source": [
    "import random \n",
    "\n",
    "T=[]\n",
    "\n",
    "for i in range(20000) :\n",
    "    \n",
    "    T.append(random.randint(1,1000) )"
   ]
  },
  {
   "cell_type": "code",
   "execution_count": null,
   "metadata": {},
   "outputs": [],
   "source": [
    "from random import *\n",
    "def TriBulle(T):\n",
    "    n=len(T)\n",
    "    permut=True\n",
    "    #p=N-1\n",
    "    while permut==True:\n",
    "        permut=False\n",
    "        for i in range(0,n-1):\n",
    "            if (T[i]>T[i+1]):\n",
    "                aux=T[i]\n",
    "                T[i]=T[i+1]\n",
    "                T[i+1]=aux\n",
    "                permut=True\n",
    "        n=n-1        \n",
    "\n",
    "#liste = []\n",
    "#for i in range(10):\n",
    "    #liste.append( randint(0, 100) )\n",
    "#print(liste)\n",
    "#TriBulle(liste)\n",
    "#print(liste)"
   ]
  },
  {
   "cell_type": "code",
   "execution_count": null,
   "metadata": {},
   "outputs": [],
   "source": [
    "import time\n",
    "debut = time.time()\n",
    "Tri_selection(T)\n",
    "fin = time.time()\n",
    "print(fin - debut)"
   ]
  },
  {
   "cell_type": "markdown",
   "metadata": {},
   "source": [
    "## ``affichage de Courbe :  ``"
   ]
  },
  {
   "cell_type": "code",
   "execution_count": 9,
   "metadata": {},
   "outputs": [
    {
     "data": {
      "image/png": "[encoded data removed]",
      "text/plain": [
       "<Figure size 432x288 with 1 Axes>"
      ]
     },
     "metadata": {
      "needs_background": "light"
     },
     "output_type": "display_data"
    }
   ],
   "source": [
    "import matplotlib.pyplot as plt\n",
    "N=[ 20000, 25000 , 30000, 35000 , 40000, 45000, 50000, 55000, 60000, 65000, 70000, 75000, 80000 ]\n",
    "Temps_Ex=[57.38925099372864,90.46417737007141,127.2656877040863,181.02952313423157,220.07546544075012,278.7770411968231,347.1631889343262,421.7574727535248,511.61676716804504,602.6750268936157,703.7881565093994,930.9794528484344,1128.6324870586395]\n",
    "\n",
    "plt.figure()\n",
    "plt.plot(N,Temps_Ex,\"magenta\")\n",
    "plt.title(\"Tri à Bulle\")\n",
    "plt.xlabel(\"N : Nombre des entiers dans le tableau\")\n",
    "plt.ylabel(\"Temps CPU en seconde \")\n",
    "plt.grid()\n",
    "\n",
    "\n",
    "plt.show()"
   ]
  },
  {
   "cell_type": "markdown",
   "metadata": {},
   "source": [
    "# <font color=\"Indigo\" size=\"5\"/> Tri par insertion:\n",
    "### <font style=\"font-family:oblique;\"/>`"
   ]
  },
  {
   "cell_type": "code",
   "execution_count": 133,
   "metadata": {},
   "outputs": [],
   "source": [
    "def tri_insertion(liste):\n",
    "    L = list(liste) \n",
    "    N = len(L)\n",
    "    for n in range(1,N):\n",
    "        cle = L[n]\n",
    "        j = n-1\n",
    "        while j>=0 and L[j] > cle:\n",
    "            L[j+1] = L[j] # decalage\n",
    "            j = j-1\n",
    "        L[j+1] = cle\n",
    "    return L\n",
    "\n",
    "\n",
    "\n",
    "\n"
   ]
  },
  {
   "cell_type": "code",
   "execution_count": null,
   "metadata": {},
   "outputs": [],
   "source": [
    "import time\n",
    "debut = time.time()\n",
    "Tri_selection(T)\n",
    "fin = time.time()\n",
    "print(fin - debut)"
   ]
  },
  {
   "cell_type": "markdown",
   "metadata": {},
   "source": [
    "## ``affichage de Courbe :  ``"
   ]
  },
  {
   "cell_type": "code",
   "execution_count": 10,
   "metadata": {},
   "outputs": [
    {
     "data": {
      "image/png": "[encoded data removed]",
      "text/plain": [
       "<Figure size 432x288 with 1 Axes>"
      ]
     },
     "metadata": {
      "needs_background": "light"
     },
     "output_type": "display_data"
    }
   ],
   "source": [
    "import matplotlib.pyplot as plt\n",
    "N=[ 20000, 25000 , 30000, 35000 , 40000, 45000, 50000, 55000, 60000, 65000 ]\n",
    "Temps_Ex=[20.802297830581665,34.360204458236694,48.94453144073486,70.15890860557556,224.16278910636902,308.7876787185669,395.79209327697754,429.5122892856598,584.4409351348877,676.1412074565887]\n",
    "\n",
    "plt.figure()\n",
    "plt.plot(N,Temps_Ex,\"magenta\")\n",
    "plt.title(\"Tri par insertion\")\n",
    "plt.xlabel(\"N : Nombre des entiers dans le tableau\")\n",
    "plt.ylabel(\"Temps CPU en seconde \")\n",
    "plt.grid()\n",
    "\n",
    "\n",
    "plt.show()"
   ]
  },
  {
   "cell_type": "markdown",
   "metadata": {},
   "source": [
    "# <font color=\"Indigo\" size=\"5\"/> Tri par fusion:\n",
    "### <font style=\"font-family:oblique;\"/>`"
   ]
  },
  {
   "cell_type": "code",
   "execution_count": 190,
   "metadata": {},
   "outputs": [],
   "source": [
    "def fusion(L1,L2):\n",
    "    n1 = len(L1)\n",
    "    n2 = len(L2)\n",
    "    L12 = [0]*(n1+n2)\n",
    "    i1 = 0\n",
    "    i2 = 0\n",
    "    i = 0\n",
    "    while i1<n1 and i2<n2:\n",
    "        if L1[i1] < L2[i2]:\n",
    "            L12[i] = L1[i1]\n",
    "            i1 += 1\n",
    "        else:\n",
    "            L12[i] = L2[i2]\n",
    "            i2 += 1\n",
    "        i += 1\n",
    "    while i1<n1:\n",
    "        L12[i] = L1[i1]\n",
    "        i1 += 1\n",
    "        i += 1\n",
    "    while i2<n2:\n",
    "        L12[i] = L2[i2]\n",
    "        i2 += 1\n",
    "        i += 1 \n",
    "    return L12\n",
    "def tri_fusion_recursif(L):\n",
    "    n = len(L)\n",
    "    if n > 1:\n",
    "        p = int(n/2)\n",
    "        L1 = L[0:p]\n",
    "        L2 = L[p:n]\n",
    "        tri_fusion_recursif(L1)\n",
    "        tri_fusion_recursif(L2)\n",
    "        L[:] = fusion(L1,L2)\n",
    "    \n",
    "def tri_fusion(L):\n",
    "    M = list(L)\n",
    "    tri_fusion_recursif(M)\n",
    "    return M\n",
    "\n",
    "\n"
   ]
  },
  {
   "cell_type": "code",
   "execution_count": null,
   "metadata": {},
   "outputs": [],
   "source": [
    "import time\n",
    "debut = time.time()\n",
    "Tri_selection(T)\n",
    "fin = time.time()\n",
    "print(fin - debut)"
   ]
  },
  {
   "cell_type": "markdown",
   "metadata": {},
   "source": [
    "## ``affichage de Courbe :  ``"
   ]
  },
  {
   "cell_type": "code",
   "execution_count": 14,
   "metadata": {},
   "outputs": [
    {
     "data": {
      "image/png": "[encoded data removed]",
      "text/plain": [
       "<Figure size 432x288 with 1 Axes>"
      ]
     },
     "metadata": {
      "needs_background": "light"
     },
     "output_type": "display_data"
    }
   ],
   "source": [
    "import matplotlib.pyplot as plt\n",
    "N=[ 20000, 25000 , 30000, 35000 , 40000, 45000, 50000, 55000, 60000, 65000, 70000, 75000, 80000, 85000, 90000, 95000, 100000 ]\n",
    "Temps_Ex=[0.4009082317352295,0.42365121841430664,0.43102526664733887,0.7649598121643066,0.5561609268188477,0.6008148193359375,0.6618392467498779,0.8433501720428467,0.9727940559387207,1.1997380256652832,1.0951001644134521,1.1044831275939941,1.1796090602874756,1.268397569656372,1.7257637977600098,1.5254132747650146,1.547114610671997]\n",
    "\n",
    "\n",
    "plt.figure()\n",
    "plt.plot(N,Temps_Ex,\"magenta\")\n",
    "plt.title(\"Tri par fusion\")\n",
    "plt.xlabel(\"N : Nombre des entiers dans le tableau\")\n",
    "plt.ylabel(\"Temps CPU en seconde \")\n",
    "plt.grid()\n",
    "\n",
    "\n",
    "plt.show()"
   ]
  },
  {
   "cell_type": "markdown",
   "metadata": {},
   "source": [
    "# <font color=\"Indigo\" size=\"5\"/> Tri Rapide:\n",
    "### <font style=\"font-family:oblique;\"/>`\n"
   ]
  },
  {
   "cell_type": "code",
   "execution_count": 154,
   "metadata": {},
   "outputs": [],
   "source": [
    "def TriRapide(L,debut,fin):\n",
    "    pivot = L[fin]\n",
    "    i = debut\n",
    "    j = debut\n",
    "    while j < fin:\n",
    "        if L[j] <= pivot:\n",
    "            L[i],L[j] = L[j],L[i]\n",
    "            i += 1\n",
    "        j += 1\n",
    "    L[fin],L[i] = L[i],L[fin]\n",
    "    return i\n",
    "def TriRapideRecursif(L,debut,fin):\n",
    "    if debut < fin:\n",
    "        i = TriRapide(L,debut,fin)\n",
    "        TriRapideRecursif(L,debut,i-1)\n",
    "        TriRapideRecursif(L,i+1,fin)\n",
    "        \n",
    "def tri_rapide(liste):\n",
    "    L = list(liste)\n",
    "    TriRapideRecursif(L,0,len(L)-1)\n",
    "    return L"
   ]
  },
  {
   "cell_type": "code",
   "execution_count": null,
   "metadata": {},
   "outputs": [],
   "source": [
    "import time\n",
    "debut = time.time()\n",
    "Tri_selection(T)\n",
    "fin = time.time()\n",
    "print(fin - debut)"
   ]
  },
  {
   "cell_type": "markdown",
   "metadata": {},
   "source": [
    "## ``affichage de Courbe :  ``"
   ]
  },
  {
   "cell_type": "code",
   "execution_count": 13,
   "metadata": {},
   "outputs": [
    {
     "data": {
      "image/png": "[encoded data removed]",
      "text/plain": [
       "<Figure size 432x288 with 1 Axes>"
      ]
     },
     "metadata": {
      "needs_background": "light"
     },
     "output_type": "display_data"
    }
   ],
   "source": [
    "import matplotlib.pyplot as plt\n",
    "N=[ 20000, 25000 , 30000, 35000 , 40000, 45000, 50000, 55000, 60000, 65000, 70000, 75000, 80000, 85000, 90000, 95000, 100000 ]\n",
    "Temps_Ex=[0.2208266258239746,0.3612487316131592,0.513787031173706,0.657829761505127,0.7207798957824707,0.8570346832275391,0.9759163856506348,1.3613693714141846,1.4292032718658447,1.6352789402008057,1.7499475479125977,2.001999616622925,2.3544580936431885,2.431640863418579,2.847541570663452,3.234670877456665,3.5403823852539062]\n",
    "plt.figure()\n",
    "plt.plot(N,Temps_Ex,\"magenta\")\n",
    "plt.title(\"Tri rapide\")\n",
    "plt.xlabel(\"N : Nombre des entiers dans le tableau\")\n",
    "plt.ylabel(\"Temps CPU en seconde \")\n",
    "plt.grid()\n",
    "\n",
    "\n",
    "plt.show()"
   ]
  },
  {
   "cell_type": "code",
   "execution_count": null,
   "metadata": {},
   "outputs": [],
   "source": []
  }
 ],
 "metadata": {
  "kernelspec": {
   "display_name": "Python 3",
   "language": "python",
   "name": "python3"
  },
  "language_info": {
   "codemirror_mode": {
    "name": "ipython",
    "version": 3
   },
   "file_extension": ".py",
   "mimetype": "text/x-python",
   "name": "python",
   "nbconvert_exporter": "python",
   "pygments_lexer": "ipython3",
   "version": "3.8.3"
  }
 },
 "nbformat": 4,
 "nbformat_minor": 4
}
