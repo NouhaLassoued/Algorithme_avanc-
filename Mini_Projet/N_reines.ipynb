{
 "cells": [
  {
   "cell_type": "code",
   "execution_count": 7,
   "metadata": {},
   "outputs": [],
   "source": [
    "def Position_libre(L,n):\n",
    "    t=len(L)\n",
    "    libre=list(range(1,t+1))\n",
    "    for i in range (0,n):\n",
    "            if L[i] in libre:\n",
    "                libre.remove(L[i])\n",
    "            if L[i]+i-n in libre :\n",
    "                libre.remove(L[i]+i-n)\n",
    "            if L[i]+n-i in libre :\n",
    "                libre.remove(L[i]+n-i)\n",
    "    return libre\n"
   ]
  },
  {
   "cell_type": "code",
   "execution_count": 8,
   "metadata": {},
   "outputs": [],
   "source": [
    "def placer_reine(L,n,ES):\n",
    "    if n==len(L):\n",
    "        ES.append(L.copy())\n",
    "    else:       \n",
    "        Plibre=Position_libre(L,n)\n",
    "        for i in Plibre:\n",
    "            L[n]=i\n",
    "            placer_reine(L,n+1,ES)\n",
    "        L[n]=0\n",
    "    return ES"
   ]
  },
  {
   "cell_type": "code",
   "execution_count": 9,
   "metadata": {},
   "outputs": [
    {
     "name": "stdout",
     "output_type": "stream",
     "text": [
      "[0, 0, 0, 0]\n",
      "[[2, 4, 1, 3], [3, 1, 4, 2]]\n"
     ]
    }
   ],
   "source": [
    "L=[0]*4\n",
    "print(L)\n",
    "Solutions=placer_reine(L,0,[])\n",
    "print(Solutions)"
   ]
  },
  {
   "cell_type": "code",
   "execution_count": null,
   "metadata": {},
   "outputs": [],
   "source": []
  }
 ],
 "metadata": {
  "kernelspec": {
   "display_name": "Python 3",
   "language": "python",
   "name": "python3"
  },
  "language_info": {
   "codemirror_mode": {
    "name": "ipython",
    "version": 3
   },
   "file_extension": ".py",
   "mimetype": "text/x-python",
   "name": "python",
   "nbconvert_exporter": "python",
   "pygments_lexer": "ipython3",
   "version": "3.8.3"
  }
 },
 "nbformat": 4,
 "nbformat_minor": 4
}
